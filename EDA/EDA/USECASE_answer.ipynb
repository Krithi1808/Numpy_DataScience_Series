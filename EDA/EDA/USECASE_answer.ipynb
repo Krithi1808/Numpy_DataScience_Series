{
 "cells": [
  {
   "cell_type": "code",
   "execution_count": 1,
   "id": "f210af6f",
   "metadata": {},
   "outputs": [
    {
     "data": {
      "text/plain": [
       "array(['No Medal', 'Bronze', 'Gold', 'Silver'], dtype=object)"
      ]
     },
     "execution_count": 1,
     "metadata": {},
     "output_type": "execute_result"
    }
   ],
   "source": [
    "import pandas as pd\n",
    "import numpy as np\n",
    "\n",
    "df=pd.read_csv('data2.csv')\n",
    "df.Medal.unique()\n"
   ]
  },
  {
   "cell_type": "code",
   "execution_count": 2,
   "id": "ef00b727",
   "metadata": {},
   "outputs": [
    {
     "data": {
      "text/plain": [
       "17"
      ]
     },
     "execution_count": 2,
     "metadata": {},
     "output_type": "execute_result"
    }
   ],
   "source": [
    "#returns the number of gold medalists in the age range between 25 and 30 (inclusive).\n",
    "\n",
    "newdf=df[(df.Age>=25)&(df.Age<=30)&(df.Medal=='Gold')]\n",
    "newdf.count()[0]\n",
    "     \n",
    "  \n",
    "  "
   ]
  },
  {
   "cell_type": "code",
   "execution_count": 3,
   "id": "8e47e896",
   "metadata": {},
   "outputs": [
    {
     "data": {
      "text/plain": [
       "[16, 17, 28, 438]"
      ]
     },
     "execution_count": 3,
     "metadata": {},
     "output_type": "execute_result"
    }
   ],
   "source": [
    "# Number of medals in list sorted\n",
    "\n",
    "newdf1=sorted(df.groupby('Medal')['Age'].count().values.tolist())\n",
    "newdf1"
   ]
  },
  {
   "cell_type": "code",
   "execution_count": 4,
   "id": "a66bf79e",
   "metadata": {},
   "outputs": [
    {
     "data": {
      "text/plain": [
       "['Speed Skating',\n",
       " 'Speed Skating',\n",
       " 'Speed Skating',\n",
       " 'Speed Skating',\n",
       " 'Speed Skating',\n",
       " 'Speed Skating',\n",
       " 'Nordic Combined',\n",
       " 'Nordic Combined',\n",
       " 'Nordic Combined',\n",
       " 'Nordic Combined',\n",
       " 'Nordic Combined',\n",
       " 'Nordic Combined',\n",
       " 'Nordic Combined',\n",
       " 'Luge',\n",
       " 'Ice Hockey',\n",
       " 'Ice Hockey',\n",
       " 'Ice Hockey',\n",
       " 'Figure Skating',\n",
       " 'Figure Skating',\n",
       " 'Figure Skating',\n",
       " 'Figure Skating',\n",
       " 'Figure Skating',\n",
       " 'Cross Country Skiing',\n",
       " 'Cross Country Skiing',\n",
       " 'Cross Country Skiing',\n",
       " 'Cross Country Skiing',\n",
       " 'Cross Country Skiing',\n",
       " 'Cross Country Skiing',\n",
       " 'Cross Country Skiing',\n",
       " 'Cross Country Skiing',\n",
       " 'Cross Country Skiing',\n",
       " 'Cross Country Skiing',\n",
       " 'Cross Country Skiing',\n",
       " 'Cross Country Skiing',\n",
       " 'Cross Country Skiing',\n",
       " 'Cross Country Skiing',\n",
       " 'Cross Country Skiing',\n",
       " 'Cross Country Skiing',\n",
       " 'Cross Country Skiing',\n",
       " 'Cross Country Skiing',\n",
       " 'Cross Country Skiing',\n",
       " 'Cross Country Skiing',\n",
       " 'Cross Country Skiing',\n",
       " 'Cross Country Skiing',\n",
       " 'Bobsleigh',\n",
       " 'Bobsleigh',\n",
       " 'Bobsleigh',\n",
       " 'Bobsleigh',\n",
       " 'Bobsleigh',\n",
       " 'Biathlon',\n",
       " 'Alpine Skiing',\n",
       " 'Alpine Skiing',\n",
       " 'Alpine Skiing',\n",
       " 'Alpine Skiing',\n",
       " 'Alpine Skiing',\n",
       " 'Alpine Skiing',\n",
       " 'Alpine Skiing',\n",
       " 'Alpine Skiing',\n",
       " 'Alpine Skiing',\n",
       " 'Alpine Skiing',\n",
       " 'Alpine Skiing',\n",
       " 'Alpine Skiing',\n",
       " 'Alpine Skiing',\n",
       " 'Alpine Skiing',\n",
       " 'Alpine Skiing',\n",
       " 'Alpine Skiing',\n",
       " 'Alpine Skiing',\n",
       " 'Alpine Skiing',\n",
       " 'Alpine Skiing',\n",
       " 'Alpine Skiing',\n",
       " 'Alpine Skiing',\n",
       " 'Alpine Skiing']"
      ]
     },
     "execution_count": 4,
     "metadata": {},
     "output_type": "execute_result"
    }
   ],
   "source": [
    "#returns the name of sports played in \"Winter\" in a reverse alphabetical order\n",
    "new_df2=df[df.Season=='Winter']['Sport']\n",
    "sorted(new_df2,reverse=True)"
   ]
  },
  {
   "cell_type": "code",
   "execution_count": 5,
   "id": "d068bd2b",
   "metadata": {},
   "outputs": [
    {
     "data": {
      "text/plain": [
       "['Italy', 'Norway', 'USA', 'Finland', 'Spain']"
      ]
     },
     "execution_count": 5,
     "metadata": {},
     "output_type": "execute_result"
    }
   ],
   "source": [
    "#function that returns the top 5 regions with the most medals in the form of a list.\n",
    "\n",
    "b=df[df['Medal']!='No Medal'].groupby('region')['Age'].count().sort_values(ascending=False)\n",
    "c=b[0:5]\n",
    "c.index.tolist()"
   ]
  },
  {
   "cell_type": "code",
   "execution_count": 6,
   "id": "4d56ab24",
   "metadata": {},
   "outputs": [
    {
     "data": {
      "text/plain": [
       "181.5"
      ]
     },
     "execution_count": 6,
     "metadata": {},
     "output_type": "execute_result"
    }
   ],
   "source": [
    "df[df['Medal']=='Gold']['Height'].median()\n",
    "\n",
    "\n"
   ]
  },
  {
   "cell_type": "code",
   "execution_count": 7,
   "id": "874db8ac",
   "metadata": {},
   "outputs": [
    {
     "data": {
      "text/plain": [
       "{'F': 2, 'M': 22}"
      ]
     },
     "execution_count": 7,
     "metadata": {},
     "output_type": "execute_result"
    }
   ],
   "source": [
    "#returns the number of Male and Females participated in a specific year \n",
    "year_val=1988\n",
    "b=df[df['Year']==year_val]\n",
    "b.groupby('Sex')['Name'].count().to_dict()"
   ]
  },
  {
   "cell_type": "code",
   "execution_count": 8,
   "id": "19cf2db2",
   "metadata": {},
   "outputs": [
    {
     "data": {
      "text/plain": [
       "'Egypt'"
      ]
     },
     "execution_count": 8,
     "metadata": {},
     "output_type": "execute_result"
    }
   ],
   "source": [
    "#turns the name of the region with the maximum number of `No Medal`.\n",
    "\n",
    "df1=df[df.Medal=='No Medal']\n",
    "ans=df1.groupby('region')['Name'].count().sort_values(ascending=False)\n",
    "ans.index.tolist()[0]"
   ]
  },
  {
   "cell_type": "code",
   "execution_count": null,
   "id": "311b0f42",
   "metadata": {},
   "outputs": [],
   "source": []
  }
 ],
 "metadata": {
  "kernelspec": {
   "display_name": "Python 3 (ipykernel)",
   "language": "python",
   "name": "python3"
  },
  "language_info": {
   "codemirror_mode": {
    "name": "ipython",
    "version": 3
   },
   "file_extension": ".py",
   "mimetype": "text/x-python",
   "name": "python",
   "nbconvert_exporter": "python",
   "pygments_lexer": "ipython3",
   "version": "3.10.5"
  }
 },
 "nbformat": 4,
 "nbformat_minor": 5
}
